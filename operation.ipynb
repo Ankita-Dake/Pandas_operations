{
 "cells": [
  {
   "cell_type": "code",
   "execution_count": 3,
   "id": "c05b0acd",
   "metadata": {
    "scrolled": true
   },
   "outputs": [
    {
     "name": "stderr",
     "output_type": "stream",
     "text": [
      "<ipython-input-3-1d034dda6bcc>:2: DeprecationWarning: The default dtype for empty Series will be 'object' instead of 'float64' in a future version. Specify a dtype explicitly to silence this warning.\n",
      "  x = pd.Series()\n"
     ]
    },
    {
     "data": {
      "text/plain": [
       "Series([], dtype: float64)"
      ]
     },
     "execution_count": 3,
     "metadata": {},
     "output_type": "execute_result"
    }
   ],
   "source": [
    "import pandas as pd\n",
    "import numpy as np\n",
    "x = pd.Series()\n",
    "x"
   ]
  },
  {
   "cell_type": "code",
   "execution_count": 11,
   "id": "842610fd",
   "metadata": {},
   "outputs": [
    {
     "data": {
      "text/plain": [
       "0    p\n",
       "1    a\n",
       "2    n\n",
       "3    d\n",
       "4    a\n",
       "5    d\n",
       "6    s\n",
       "dtype: object"
      ]
     },
     "execution_count": 11,
     "metadata": {},
     "output_type": "execute_result"
    }
   ],
   "source": [
    "info = np.array(['p','a','n','d','a','d','s'])\n",
    "a = pd.Series(info)\n",
    "a"
   ]
  },
  {
   "cell_type": "code",
   "execution_count": 13,
   "id": "f7730054",
   "metadata": {},
   "outputs": [
    {
     "data": {
      "text/plain": [
       "x    0.0\n",
       "y    1.0\n",
       "z    3.0\n",
       "dtype: float64"
      ]
     },
     "execution_count": 13,
     "metadata": {},
     "output_type": "execute_result"
    }
   ],
   "source": [
    "x1 = {'x':0.,'y':1,'z':3}\n",
    "a = pd.Series(x1)\n",
    "a"
   ]
  },
  {
   "cell_type": "code",
   "execution_count": 15,
   "id": "72335a46",
   "metadata": {},
   "outputs": [
    {
     "data": {
      "text/plain": [
       "1    4\n",
       "2    4\n",
       "3    4\n",
       "4    4\n",
       "dtype: int64"
      ]
     },
     "execution_count": 15,
     "metadata": {},
     "output_type": "execute_result"
    }
   ],
   "source": [
    "x2 = pd.Series(4,index =[1,2,3,4])\n",
    "x2"
   ]
  },
  {
   "cell_type": "code",
   "execution_count": 21,
   "id": "01141ed6",
   "metadata": {},
   "outputs": [
    {
     "name": "stdout",
     "output_type": "stream",
     "text": [
      "1\n",
      "3\n"
     ]
    }
   ],
   "source": [
    "x = pd.Series([1,2,3],index=['a','b','c'])\n",
    "print(x[0])\n",
    "print(x[2])"
   ]
  },
  {
   "cell_type": "code",
   "execution_count": 26,
   "id": "d73295ce",
   "metadata": {},
   "outputs": [
    {
     "name": "stdout",
     "output_type": "stream",
     "text": [
      "RangeIndex(start=0, stop=6, step=1)\n",
      "[2 4 6 8 5 6]\n",
      "Index(['a', 'b', 'c'], dtype='object')\n",
      "[11.2 18.  22.5]\n"
     ]
    }
   ],
   "source": [
    "#Retrieving Index array and data array of a series object\n",
    "x=pd.Series(data=[2,4,6,8,5,6])   \n",
    "y=pd.Series(data=[11.2,18,22.5], index=['a','b','c'])   \n",
    "print(x.index)   \n",
    "print(x.values)   \n",
    "print(y.index)   \n",
    "print(y.values)"
   ]
  },
  {
   "cell_type": "code",
   "execution_count": 29,
   "id": "a90c7712",
   "metadata": {},
   "outputs": [
    {
     "name": "stdout",
     "output_type": "stream",
     "text": [
      "int64\n",
      "float64\n"
     ]
    }
   ],
   "source": [
    "#Retrieving Types (dtype)\n",
    "a=pd.Series(data=[1,2,3,4])   \n",
    "b=pd.Series(data=[4.9,8.2,5.6],   \n",
    "index=['x','y','z'])   \n",
    "print(a.dtype)   \n",
    "   \n",
    "print(b.dtype)   \n",
    " "
   ]
  },
  {
   "cell_type": "code",
   "execution_count": 35,
   "id": "ca0dab25",
   "metadata": {},
   "outputs": [
    {
     "name": "stdout",
     "output_type": "stream",
     "text": [
      "(4,)\n",
      "(3,)\n"
     ]
    }
   ],
   "source": [
    "#shape\n",
    "a=pd.Series(data=[[1,2],[3,4,5],4,3])   \n",
    "b=pd.Series(data=[4.9,8.2,5.6],index=['x','y','z'])   \n",
    "print(a.shape)   \n",
    "print(b.shape)"
   ]
  },
  {
   "cell_type": "code",
   "execution_count": 36,
   "id": "bb42e83d",
   "metadata": {},
   "outputs": [
    {
     "name": "stdout",
     "output_type": "stream",
     "text": [
      "1 1\n",
      "4 3\n",
      "32 24\n"
     ]
    }
   ],
   "source": [
    "#dimensions,size\n",
    "a=pd.Series(data=[1,2,3,4])   \n",
    "b=pd.Series(data=[4.9,8.2,5.6],  \n",
    "index=['x','y','z'])   \n",
    "print(a.ndim, b.ndim)   \n",
    "print(a.size, b.size)   \n",
    "print(a.nbytes, b.nbytes)  "
   ]
  },
  {
   "cell_type": "code",
   "execution_count": 10,
   "id": "68a26833",
   "metadata": {},
   "outputs": [
    {
     "data": {
      "text/html": [
       "<div>\n",
       "<style scoped>\n",
       "    .dataframe tbody tr th:only-of-type {\n",
       "        vertical-align: middle;\n",
       "    }\n",
       "\n",
       "    .dataframe tbody tr th {\n",
       "        vertical-align: top;\n",
       "    }\n",
       "\n",
       "    .dataframe thead th {\n",
       "        text-align: right;\n",
       "    }\n",
       "</style>\n",
       "<table border=\"1\" class=\"dataframe\">\n",
       "  <thead>\n",
       "    <tr style=\"text-align: right;\">\n",
       "      <th></th>\n",
       "      <th>name</th>\n",
       "      <th>age</th>\n",
       "      <th>city</th>\n",
       "    </tr>\n",
       "  </thead>\n",
       "  <tbody>\n",
       "    <tr>\n",
       "      <th>0</th>\n",
       "      <td>Andy</td>\n",
       "      <td>26</td>\n",
       "      <td>Pune</td>\n",
       "    </tr>\n",
       "    <tr>\n",
       "      <th>1</th>\n",
       "      <td>Doe</td>\n",
       "      <td>27</td>\n",
       "      <td>Pune</td>\n",
       "    </tr>\n",
       "    <tr>\n",
       "      <th>2</th>\n",
       "      <td>john</td>\n",
       "      <td>28</td>\n",
       "      <td>Mumbai</td>\n",
       "    </tr>\n",
       "  </tbody>\n",
       "</table>\n",
       "</div>"
      ],
      "text/plain": [
       "   name  age    city\n",
       "0  Andy   26    Pune\n",
       "1   Doe   27    Pune\n",
       "2  john   28  Mumbai"
      ]
     },
     "execution_count": 10,
     "metadata": {},
     "output_type": "execute_result"
    }
   ],
   "source": [
    "import numpy as np\n",
    "import pandas as pd\n",
    "\n",
    "dict1 = {\n",
    "\"name\":['Andy', 'Doe', 'john'],\n",
    "\"age\":[26,27,28],\n",
    "\"city\":['Pune', 'Pune', 'Mumbai'],\n",
    "}\n",
    "\n",
    "df = pd.DataFrame(dict1)\n",
    "df"
   ]
  },
  {
   "cell_type": "code",
   "execution_count": 5,
   "id": "70426164",
   "metadata": {},
   "outputs": [
    {
     "name": "stdout",
     "output_type": "stream",
     "text": [
      "0       html\n",
      "1        css\n",
      "2    android\n",
      "3       java\n",
      "4     python\n",
      "5     kotlin\n",
      "dtype: object\n"
     ]
    }
   ],
   "source": [
    "import pandas as pd\n",
    "import numpy as np\n",
    "i = np.array(['html','css','android','java','python','kotlin'])\n",
    "j = pd.Series(i)\n",
    "print(j)"
   ]
  },
  {
   "cell_type": "code",
   "execution_count": 6,
   "id": "2b43f654",
   "metadata": {},
   "outputs": [
    {
     "name": "stdout",
     "output_type": "stream",
     "text": [
      "         0\n",
      "0  android\n",
      "1     java\n",
      "2   kotlin\n",
      "3     html\n",
      "4      css\n"
     ]
    }
   ],
   "source": [
    "import pandas as pd\n",
    "i = ['android', 'java', 'kotlin', 'html', 'css']\n",
    "df = pd.DataFrame(i)\n",
    "print(df)"
   ]
  },
  {
   "cell_type": "code",
   "execution_count": 7,
   "id": "2ed70ebb",
   "metadata": {},
   "outputs": [
    {
     "name": "stdout",
     "output_type": "stream",
     "text": [
      "Series([], dtype: float64)\n"
     ]
    },
    {
     "name": "stderr",
     "output_type": "stream",
     "text": [
      "<ipython-input-7-e67adec4c270>:2: DeprecationWarning: The default dtype for empty Series will be 'object' instead of 'float64' in a future version. Specify a dtype explicitly to silence this warning.\n",
      "  i = pd.Series()\n"
     ]
    }
   ],
   "source": [
    "import pandas as pd\n",
    "i = pd.Series()\n",
    "print (i)"
   ]
  },
  {
   "cell_type": "code",
   "execution_count": 1,
   "id": "7313f2f5",
   "metadata": {},
   "outputs": [
    {
     "name": "stdout",
     "output_type": "stream",
     "text": [
      "0        10\n",
      "1        20\n",
      "2        30\n",
      "3        40\n",
      "4        50\n",
      "5     data1\n",
      "6     date2\n",
      "7     data3\n",
      "8    10.201\n",
      "dtype: object\n"
     ]
    }
   ],
   "source": [
    "# Series with 1-D\n",
    "import pandas as pd\n",
    "import numpy as np\n",
    "\n",
    "i = np.array([10,20,30,40,50,'data1', 'date2', 'data3', 10.201])\n",
    "\n",
    "j = pd.Series(i)\n",
    "\n",
    "print(j)"
   ]
  },
  {
   "cell_type": "code",
   "execution_count": 3,
   "id": "a66798d3",
   "metadata": {},
   "outputs": [
    {
     "name": "stdout",
     "output_type": "stream",
     "text": [
      "a    100\n",
      "b    abc\n",
      "c    300\n",
      "d     50\n",
      "dtype: object\n"
     ]
    }
   ],
   "source": [
    "import pandas as pd\n",
    "import numpy as np\n",
    "\n",
    "i = {'a' : 100, 'b' : 'abc', 'c' : 300, 'd' : 50}\n",
    "\n",
    "j = pd.Series(i)\n",
    "print(j)"
   ]
  },
  {
   "cell_type": "code",
   "execution_count": null,
   "id": "f63e32e6",
   "metadata": {},
   "outputs": [],
   "source": []
  }
 ],
 "metadata": {
  "kernelspec": {
   "display_name": "Python 3",
   "language": "python",
   "name": "python3"
  },
  "language_info": {
   "codemirror_mode": {
    "name": "ipython",
    "version": 3
   },
   "file_extension": ".py",
   "mimetype": "text/x-python",
   "name": "python",
   "nbconvert_exporter": "python",
   "pygments_lexer": "ipython3",
   "version": "3.8.8"
  }
 },
 "nbformat": 4,
 "nbformat_minor": 5
}
